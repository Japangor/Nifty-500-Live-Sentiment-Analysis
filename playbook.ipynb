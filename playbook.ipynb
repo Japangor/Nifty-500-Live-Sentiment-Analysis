{
 "cells": [
  {
   "attachments": {},
   "cell_type": "markdown",
   "metadata": {},
   "source": [
    "Imports"
   ]
  },
  {
   "cell_type": "code",
   "execution_count": 1,
   "metadata": {},
   "outputs": [
    {
     "name": "stderr",
     "output_type": "stream",
     "text": [
      "[nltk_data] Downloading package vader_lexicon to\n",
      "[nltk_data]     C:\\Users\\singh\\AppData\\Roaming\\nltk_data...\n",
      "[nltk_data]   Package vader_lexicon is already up-to-date!\n"
     ]
    }
   ],
   "source": [
    "# Imports\n",
    "import pandas as pd\n",
    "import numpy as np\n",
    "from urllib.request import urlopen, Request\n",
    "from bs4 import BeautifulSoup\n",
    "from pprint import pprint\n",
    "from nsepython import *\n",
    "from datetime import datetime\n",
    "import time\n",
    "\n",
    "import nltk\n",
    "nltk.downloader.download('vader_lexicon')\n",
    "from nltk.sentiment.vader import SentimentIntensityAnalyzer\n",
    "\n",
    "import pandas as pd\n",
    "import matplotlib.pyplot as plt\n",
    "import plotly\n",
    "import plotly.express as px\n",
    "\n",
    "import streamlit as st"
   ]
  },
  {
   "attachments": {},
   "cell_type": "markdown",
   "metadata": {},
   "source": [
    "Get Company Tickers from [NSE Website](https://www1.nseindia.com/content/indices/ind_nifty500list.csv)"
   ]
  },
  {
   "cell_type": "code",
   "execution_count": 2,
   "metadata": {},
   "outputs": [
    {
     "data": {
      "text/plain": [
       "0      3MINDIA\n",
       "1          ABB\n",
       "2          ACC\n",
       "3       AIAENG\n",
       "4    APLAPOLLO\n",
       "Name: Symbol, dtype: object"
      ]
     },
     "execution_count": 2,
     "metadata": {},
     "output_type": "execute_result"
    }
   ],
   "source": [
    "ticker_url = 'https://www1.nseindia.com/content/indices/ind_nifty500list.csv'\n",
    "tickers_file = pd.read_csv(ticker_url)\n",
    "tickers_df = tickers_file[['Symbol', 'Company Name']]\n",
    "tickers = tickers_df['Symbol']\n",
    "tickers.head()"
   ]
  },
  {
   "cell_type": "code",
   "execution_count": 3,
   "metadata": {},
   "outputs": [
    {
     "data": {
      "text/plain": [
       "(501,)"
      ]
     },
     "execution_count": 3,
     "metadata": {},
     "output_type": "execute_result"
    }
   ],
   "source": [
    "tickers.shape"
   ]
  },
  {
   "attachments": {},
   "cell_type": "markdown",
   "metadata": {},
   "source": [
    "Scrape Article Headlines and Dates"
   ]
  },
  {
   "cell_type": "code",
   "execution_count": 4,
   "metadata": {},
   "outputs": [],
   "source": [
    "news_url = 'https://ticker.finology.in/company/'"
   ]
  },
  {
   "cell_type": "markdown",
   "metadata": {},
   "source": [
    "test_url = 'https://ticker.finology.in/company/XYZ'\n",
    "req = Request(url= test_url,headers={'User-Agent': 'Mozilla/5.0 (Windows NT 6.1; WOW64; rv:20.0) Gecko/20100101 Firefox/20.0'})\n",
    "response = urlopen(req)\n",
    "html = BeautifulSoup(response, 'lxml')\n",
    "news_links = html.select('#newsarticles > a')  "
   ]
  },
  {
   "cell_type": "markdown",
   "metadata": {},
   "source": [
    "len(news_links)"
   ]
  },
  {
   "cell_type": "markdown",
   "metadata": {},
   "source": [
    "list_test = []\n",
    "for link in news_links:\n",
    "    title = link.find('span', class_='h6').text\n",
    "    #separate date and time from datetime object\n",
    "    date_time_obj = datetime.strptime(link.find('small').text, '%d %b %Y, %I:%M%p')\n",
    "    art_date = date_time_obj.date().strftime('%Y/%m/%d')\n",
    "    art_time = date_time_obj.time().strftime('%H:%M')\n",
    "    list_test.append(['SBIN', title, art_date, art_time])"
   ]
  },
  {
   "cell_type": "code",
   "execution_count": 5,
   "metadata": {},
   "outputs": [
    {
     "name": "stdout",
     "output_type": "stream",
     "text": [
      "3MINDIA\n",
      "ABB\n",
      "ACC\n",
      "AIAENG\n",
      "APLAPOLLO\n",
      "AUBANK\n",
      "AARTIDRUGS\n",
      "AAVAS\n",
      "ABBOTINDIA\n",
      "ADANIENT\n"
     ]
    },
    {
     "name": "stderr",
     "output_type": "stream",
     "text": [
      "C:\\Users\\singh\\AppData\\Local\\Temp\\ipykernel_8632\\46446300.py:35: SettingWithCopyWarning: \n",
      "A value is trying to be set on a copy of a slice from a DataFrame\n",
      "\n",
      "See the caveats in the documentation: https://pandas.pydata.org/pandas-docs/stable/user_guide/indexing.html#returning-a-view-versus-a-copy\n",
      "  tickers_df.drop(tickers_df[tickers_df['Symbol'].isin(unavailable_tickers)].index.values, inplace=True)\n"
     ]
    }
   ],
   "source": [
    "# list to store article data\n",
    "data = []\n",
    "unavailable_tickers = []\n",
    "companies_len = len(tickers)\n",
    "length = 10\n",
    "\n",
    "for i in range(length):\n",
    "    print(tickers[i])\n",
    "    req = Request(url= '{}/{}'.format(news_url, tickers[i]),headers={'User-Agent': 'Mozilla/5.0 (Windows NT 6.1; WOW64; rv:20.0) Gecko/20100101 Firefox/20.0'})\n",
    "    response = urlopen(req)\n",
    "    html = BeautifulSoup(response, 'lxml')\n",
    "    news_links = html.select('#newsarticles > a')     #select('.newslink')  \n",
    "    if len(news_links) == 0:\n",
    "        print('No news found for {}'.format(tickers[i]))\n",
    "        unavailable_tickers.append(tickers[i])\n",
    "        # delete all ticker from tickers and tickers_df together #todo\n",
    "        continue\n",
    "\n",
    "    for link in news_links:\n",
    "        title = link.find('span', class_='h6').text\n",
    "        #separate date and time from datetime object\n",
    "        date_time_obj = datetime.strptime(link.find('small').text, '%d %b %Y, %I:%M%p')\n",
    "        art_date = date_time_obj.date().strftime('%Y/%m/%d')\n",
    "        art_time = date_time_obj.time().strftime('%H:%M')\n",
    "        data.append([tickers[i], title, art_date, art_time])  \n",
    "    ###if (i != 0 and i%200 == 0):\n",
    "    ####print('sleeping')\n",
    "    ####time.sleep(30)\n",
    "df = pd.DataFrame(data, columns=['Ticker', 'Headline', 'Date', 'Time'])\n",
    "\n",
    "for ticker in unavailable_tickers:\n",
    "    if ticker in tickers:\n",
    "        tickers.drop(ticker, inplace=True)\n",
    "\n",
    "tickers_df.drop(tickers_df[tickers_df['Symbol'].isin(unavailable_tickers)].index.values, inplace=True)\n",
    "\n"
   ]
  },
  {
   "cell_type": "code",
   "execution_count": 6,
   "metadata": {},
   "outputs": [
    {
     "name": "stdout",
     "output_type": "stream",
     "text": [
      "[]\n"
     ]
    }
   ],
   "source": [
    "print(unavailable_tickers)"
   ]
  },
  {
   "cell_type": "code",
   "execution_count": 7,
   "metadata": {},
   "outputs": [
    {
     "name": "stdout",
     "output_type": "stream",
     "text": [
      "       Ticker                                           Headline        Date  \\\n",
      "0     3MINDIA        3m India informs about postal ballot notice  2022/12/24   \n",
      "1     3MINDIA      3M India informs about trading window closure  2022/12/23   \n",
      "2     3MINDIA  3M India’s promoter to exit PFAS manufacturing...  2022/12/22   \n",
      "3     3MINDIA   3M India informs about loss of share certificate  2022/12/19   \n",
      "4     3MINDIA  3M India informs about issuance of duplicate s...  2022/11/21   \n",
      "..        ...                                                ...         ...   \n",
      "469  ADANIENT               Adani Enterprises - Quaterly Results  2022/08/04   \n",
      "470  ADANIENT  Adani Enterprises inks MoU with Israel Innovat...  2022/08/04   \n",
      "471  ADANIENT  Adani Enterprises' arm acquires 400MHz of spec...  2022/08/02   \n",
      "472  ADANIENT  Adani Enterprises planning to raise funds thro...  2022/07/29   \n",
      "473  ADANIENT  Adani Enterprises' arm deposits Rs 100 crore a...  2022/07/19   \n",
      "\n",
      "      Time  \n",
      "0    12:59  \n",
      "1    15:38  \n",
      "2    12:27  \n",
      "3    17:00  \n",
      "4    16:09  \n",
      "..     ...  \n",
      "469  18:29  \n",
      "470  15:35  \n",
      "471  18:00  \n",
      "472  10:09  \n",
      "473  14:59  \n",
      "\n",
      "[474 rows x 4 columns]\n"
     ]
    }
   ],
   "source": [
    "pprint(df)"
   ]
  },
  {
   "attachments": {},
   "cell_type": "markdown",
   "metadata": {},
   "source": [
    "Sentiment Analysis"
   ]
  },
  {
   "cell_type": "code",
   "execution_count": 8,
   "metadata": {},
   "outputs": [
    {
     "data": {
      "text/plain": [
       "\"import nltk\\nnltk.downloader.download('vader_lexicon')\\nfrom nltk.sentiment.vader import SentimentIntensityAnalyzer\""
      ]
     },
     "execution_count": 8,
     "metadata": {},
     "output_type": "execute_result"
    }
   ],
   "source": [
    "'''import nltk\n",
    "nltk.downloader.download('vader_lexicon')\n",
    "from nltk.sentiment.vader import SentimentIntensityAnalyzer'''"
   ]
  },
  {
   "cell_type": "code",
   "execution_count": 9,
   "metadata": {},
   "outputs": [],
   "source": [
    "vader = SentimentIntensityAnalyzer()\n",
    "scores = df['Headline'].apply(vader.polarity_scores).tolist()\n",
    "scores_df = pd.DataFrame(scores)"
   ]
  },
  {
   "cell_type": "code",
   "execution_count": 10,
   "metadata": {},
   "outputs": [
    {
     "data": {
      "text/plain": [
       "(474, 4)"
      ]
     },
     "execution_count": 10,
     "metadata": {},
     "output_type": "execute_result"
    }
   ],
   "source": [
    "scores_df.shape"
   ]
  },
  {
   "cell_type": "code",
   "execution_count": 11,
   "metadata": {},
   "outputs": [],
   "source": [
    "new_df = pd.merge(left=df, right=scores_df, on=df.index.values).drop(['key_0'], axis=1)"
   ]
  },
  {
   "cell_type": "code",
   "execution_count": 12,
   "metadata": {},
   "outputs": [
    {
     "data": {
      "text/html": [
       "<div>\n",
       "<style scoped>\n",
       "    .dataframe tbody tr th:only-of-type {\n",
       "        vertical-align: middle;\n",
       "    }\n",
       "\n",
       "    .dataframe tbody tr th {\n",
       "        vertical-align: top;\n",
       "    }\n",
       "\n",
       "    .dataframe thead th {\n",
       "        text-align: right;\n",
       "    }\n",
       "</style>\n",
       "<table border=\"1\" class=\"dataframe\">\n",
       "  <thead>\n",
       "    <tr style=\"text-align: right;\">\n",
       "      <th></th>\n",
       "      <th>Ticker</th>\n",
       "      <th>Headline</th>\n",
       "      <th>Date</th>\n",
       "      <th>Time</th>\n",
       "      <th>neg</th>\n",
       "      <th>neu</th>\n",
       "      <th>pos</th>\n",
       "      <th>compound</th>\n",
       "    </tr>\n",
       "  </thead>\n",
       "  <tbody>\n",
       "    <tr>\n",
       "      <th>0</th>\n",
       "      <td>3MINDIA</td>\n",
       "      <td>3m India informs about postal ballot notice</td>\n",
       "      <td>2022/12/24</td>\n",
       "      <td>12:59</td>\n",
       "      <td>0.000</td>\n",
       "      <td>1.000</td>\n",
       "      <td>0.000</td>\n",
       "      <td>0.0000</td>\n",
       "    </tr>\n",
       "    <tr>\n",
       "      <th>1</th>\n",
       "      <td>3MINDIA</td>\n",
       "      <td>3M India informs about trading window closure</td>\n",
       "      <td>2022/12/23</td>\n",
       "      <td>15:38</td>\n",
       "      <td>0.000</td>\n",
       "      <td>1.000</td>\n",
       "      <td>0.000</td>\n",
       "      <td>0.0000</td>\n",
       "    </tr>\n",
       "    <tr>\n",
       "      <th>2</th>\n",
       "      <td>3MINDIA</td>\n",
       "      <td>3M India’s promoter to exit PFAS manufacturing...</td>\n",
       "      <td>2022/12/22</td>\n",
       "      <td>12:27</td>\n",
       "      <td>0.000</td>\n",
       "      <td>1.000</td>\n",
       "      <td>0.000</td>\n",
       "      <td>0.0000</td>\n",
       "    </tr>\n",
       "    <tr>\n",
       "      <th>3</th>\n",
       "      <td>3MINDIA</td>\n",
       "      <td>3M India informs about loss of share certificate</td>\n",
       "      <td>2022/12/19</td>\n",
       "      <td>17:00</td>\n",
       "      <td>0.219</td>\n",
       "      <td>0.571</td>\n",
       "      <td>0.210</td>\n",
       "      <td>-0.0258</td>\n",
       "    </tr>\n",
       "    <tr>\n",
       "      <th>4</th>\n",
       "      <td>3MINDIA</td>\n",
       "      <td>3M India informs about issuance of duplicate s...</td>\n",
       "      <td>2022/11/21</td>\n",
       "      <td>16:09</td>\n",
       "      <td>0.000</td>\n",
       "      <td>0.784</td>\n",
       "      <td>0.216</td>\n",
       "      <td>0.2960</td>\n",
       "    </tr>\n",
       "    <tr>\n",
       "      <th>...</th>\n",
       "      <td>...</td>\n",
       "      <td>...</td>\n",
       "      <td>...</td>\n",
       "      <td>...</td>\n",
       "      <td>...</td>\n",
       "      <td>...</td>\n",
       "      <td>...</td>\n",
       "      <td>...</td>\n",
       "    </tr>\n",
       "    <tr>\n",
       "      <th>469</th>\n",
       "      <td>ADANIENT</td>\n",
       "      <td>Adani Enterprises - Quaterly Results</td>\n",
       "      <td>2022/08/04</td>\n",
       "      <td>18:29</td>\n",
       "      <td>0.000</td>\n",
       "      <td>1.000</td>\n",
       "      <td>0.000</td>\n",
       "      <td>0.0000</td>\n",
       "    </tr>\n",
       "    <tr>\n",
       "      <th>470</th>\n",
       "      <td>ADANIENT</td>\n",
       "      <td>Adani Enterprises inks MoU with Israel Innovat...</td>\n",
       "      <td>2022/08/04</td>\n",
       "      <td>15:35</td>\n",
       "      <td>0.000</td>\n",
       "      <td>0.606</td>\n",
       "      <td>0.394</td>\n",
       "      <td>0.4404</td>\n",
       "    </tr>\n",
       "    <tr>\n",
       "      <th>471</th>\n",
       "      <td>ADANIENT</td>\n",
       "      <td>Adani Enterprises' arm acquires 400MHz of spec...</td>\n",
       "      <td>2022/08/02</td>\n",
       "      <td>18:00</td>\n",
       "      <td>0.000</td>\n",
       "      <td>1.000</td>\n",
       "      <td>0.000</td>\n",
       "      <td>0.0000</td>\n",
       "    </tr>\n",
       "    <tr>\n",
       "      <th>472</th>\n",
       "      <td>ADANIENT</td>\n",
       "      <td>Adani Enterprises planning to raise funds thro...</td>\n",
       "      <td>2022/07/29</td>\n",
       "      <td>10:09</td>\n",
       "      <td>0.000</td>\n",
       "      <td>1.000</td>\n",
       "      <td>0.000</td>\n",
       "      <td>0.0000</td>\n",
       "    </tr>\n",
       "    <tr>\n",
       "      <th>473</th>\n",
       "      <td>ADANIENT</td>\n",
       "      <td>Adani Enterprises' arm deposits Rs 100 crore a...</td>\n",
       "      <td>2022/07/19</td>\n",
       "      <td>14:59</td>\n",
       "      <td>0.000</td>\n",
       "      <td>1.000</td>\n",
       "      <td>0.000</td>\n",
       "      <td>0.0000</td>\n",
       "    </tr>\n",
       "  </tbody>\n",
       "</table>\n",
       "<p>474 rows × 8 columns</p>\n",
       "</div>"
      ],
      "text/plain": [
       "       Ticker                                           Headline        Date  \\\n",
       "0     3MINDIA        3m India informs about postal ballot notice  2022/12/24   \n",
       "1     3MINDIA      3M India informs about trading window closure  2022/12/23   \n",
       "2     3MINDIA  3M India’s promoter to exit PFAS manufacturing...  2022/12/22   \n",
       "3     3MINDIA   3M India informs about loss of share certificate  2022/12/19   \n",
       "4     3MINDIA  3M India informs about issuance of duplicate s...  2022/11/21   \n",
       "..        ...                                                ...         ...   \n",
       "469  ADANIENT               Adani Enterprises - Quaterly Results  2022/08/04   \n",
       "470  ADANIENT  Adani Enterprises inks MoU with Israel Innovat...  2022/08/04   \n",
       "471  ADANIENT  Adani Enterprises' arm acquires 400MHz of spec...  2022/08/02   \n",
       "472  ADANIENT  Adani Enterprises planning to raise funds thro...  2022/07/29   \n",
       "473  ADANIENT  Adani Enterprises' arm deposits Rs 100 crore a...  2022/07/19   \n",
       "\n",
       "      Time    neg    neu    pos  compound  \n",
       "0    12:59  0.000  1.000  0.000    0.0000  \n",
       "1    15:38  0.000  1.000  0.000    0.0000  \n",
       "2    12:27  0.000  1.000  0.000    0.0000  \n",
       "3    17:00  0.219  0.571  0.210   -0.0258  \n",
       "4    16:09  0.000  0.784  0.216    0.2960  \n",
       "..     ...    ...    ...    ...       ...  \n",
       "469  18:29  0.000  1.000  0.000    0.0000  \n",
       "470  15:35  0.000  0.606  0.394    0.4404  \n",
       "471  18:00  0.000  1.000  0.000    0.0000  \n",
       "472  10:09  0.000  1.000  0.000    0.0000  \n",
       "473  14:59  0.000  1.000  0.000    0.0000  \n",
       "\n",
       "[474 rows x 8 columns]"
      ]
     },
     "execution_count": 12,
     "metadata": {},
     "output_type": "execute_result"
    }
   ],
   "source": [
    "new_df"
   ]
  },
  {
   "cell_type": "code",
   "execution_count": 13,
   "metadata": {},
   "outputs": [
    {
     "name": "stderr",
     "output_type": "stream",
     "text": [
      "C:\\Users\\singh\\AppData\\Local\\Temp\\ipykernel_8632\\2542017131.py:1: FutureWarning: The default value of numeric_only in DataFrameGroupBy.mean is deprecated. In a future version, numeric_only will default to False. Either specify numeric_only or select only columns which should be valid for the function.\n",
      "  final_df = new_df.groupby('Ticker').mean()\n"
     ]
    }
   ],
   "source": [
    "final_df = new_df.groupby('Ticker').mean()"
   ]
  },
  {
   "cell_type": "code",
   "execution_count": 14,
   "metadata": {},
   "outputs": [
    {
     "data": {
      "text/plain": [
       "(10, 4)"
      ]
     },
     "execution_count": 14,
     "metadata": {},
     "output_type": "execute_result"
    }
   ],
   "source": [
    "final_df.shape"
   ]
  },
  {
   "cell_type": "code",
   "execution_count": 15,
   "metadata": {},
   "outputs": [
    {
     "data": {
      "text/html": [
       "<div>\n",
       "<style scoped>\n",
       "    .dataframe tbody tr th:only-of-type {\n",
       "        vertical-align: middle;\n",
       "    }\n",
       "\n",
       "    .dataframe tbody tr th {\n",
       "        vertical-align: top;\n",
       "    }\n",
       "\n",
       "    .dataframe thead th {\n",
       "        text-align: right;\n",
       "    }\n",
       "</style>\n",
       "<table border=\"1\" class=\"dataframe\">\n",
       "  <thead>\n",
       "    <tr style=\"text-align: right;\">\n",
       "      <th></th>\n",
       "      <th>neg</th>\n",
       "      <th>neu</th>\n",
       "      <th>pos</th>\n",
       "      <th>compound</th>\n",
       "    </tr>\n",
       "    <tr>\n",
       "      <th>Ticker</th>\n",
       "      <th></th>\n",
       "      <th></th>\n",
       "      <th></th>\n",
       "      <th></th>\n",
       "    </tr>\n",
       "  </thead>\n",
       "  <tbody>\n",
       "    <tr>\n",
       "      <th>3MINDIA</th>\n",
       "      <td>0.008760</td>\n",
       "      <td>0.932560</td>\n",
       "      <td>0.058680</td>\n",
       "      <td>0.071982</td>\n",
       "    </tr>\n",
       "    <tr>\n",
       "      <th>AARTIDRUGS</th>\n",
       "      <td>0.023298</td>\n",
       "      <td>0.926255</td>\n",
       "      <td>0.050447</td>\n",
       "      <td>0.040130</td>\n",
       "    </tr>\n",
       "    <tr>\n",
       "      <th>AAVAS</th>\n",
       "      <td>0.000000</td>\n",
       "      <td>0.973400</td>\n",
       "      <td>0.026600</td>\n",
       "      <td>0.040926</td>\n",
       "    </tr>\n",
       "    <tr>\n",
       "      <th>ABB</th>\n",
       "      <td>0.018820</td>\n",
       "      <td>0.912140</td>\n",
       "      <td>0.069040</td>\n",
       "      <td>0.081176</td>\n",
       "    </tr>\n",
       "    <tr>\n",
       "      <th>ABBOTINDIA</th>\n",
       "      <td>0.008383</td>\n",
       "      <td>0.926872</td>\n",
       "      <td>0.064723</td>\n",
       "      <td>0.080911</td>\n",
       "    </tr>\n",
       "    <tr>\n",
       "      <th>ACC</th>\n",
       "      <td>0.015040</td>\n",
       "      <td>0.920320</td>\n",
       "      <td>0.064640</td>\n",
       "      <td>0.080172</td>\n",
       "    </tr>\n",
       "    <tr>\n",
       "      <th>ADANIENT</th>\n",
       "      <td>0.001920</td>\n",
       "      <td>0.958860</td>\n",
       "      <td>0.039220</td>\n",
       "      <td>0.058188</td>\n",
       "    </tr>\n",
       "    <tr>\n",
       "      <th>AIAENG</th>\n",
       "      <td>0.000000</td>\n",
       "      <td>0.973667</td>\n",
       "      <td>0.026333</td>\n",
       "      <td>0.043257</td>\n",
       "    </tr>\n",
       "    <tr>\n",
       "      <th>APLAPOLLO</th>\n",
       "      <td>0.000000</td>\n",
       "      <td>0.963780</td>\n",
       "      <td>0.036220</td>\n",
       "      <td>0.060572</td>\n",
       "    </tr>\n",
       "    <tr>\n",
       "      <th>AUBANK</th>\n",
       "      <td>0.002120</td>\n",
       "      <td>0.944120</td>\n",
       "      <td>0.053740</td>\n",
       "      <td>0.095700</td>\n",
       "    </tr>\n",
       "  </tbody>\n",
       "</table>\n",
       "</div>"
      ],
      "text/plain": [
       "                 neg       neu       pos  compound\n",
       "Ticker                                            \n",
       "3MINDIA     0.008760  0.932560  0.058680  0.071982\n",
       "AARTIDRUGS  0.023298  0.926255  0.050447  0.040130\n",
       "AAVAS       0.000000  0.973400  0.026600  0.040926\n",
       "ABB         0.018820  0.912140  0.069040  0.081176\n",
       "ABBOTINDIA  0.008383  0.926872  0.064723  0.080911\n",
       "ACC         0.015040  0.920320  0.064640  0.080172\n",
       "ADANIENT    0.001920  0.958860  0.039220  0.058188\n",
       "AIAENG      0.000000  0.973667  0.026333  0.043257\n",
       "APLAPOLLO   0.000000  0.963780  0.036220  0.060572\n",
       "AUBANK      0.002120  0.944120  0.053740  0.095700"
      ]
     },
     "execution_count": 15,
     "metadata": {},
     "output_type": "execute_result"
    }
   ],
   "source": [
    "final_df"
   ]
  },
  {
   "attachments": {},
   "cell_type": "markdown",
   "metadata": {},
   "source": [
    "Get Company Sector, industry data"
   ]
  },
  {
   "cell_type": "code",
   "execution_count": 16,
   "metadata": {},
   "outputs": [
    {
     "name": "stdout",
     "output_type": "stream",
     "text": [
      "3MINDIA\n",
      "'Sector: Diversified'\n",
      "'Industry: Diversified'\n",
      "market cap is Rs 254.92\n",
      "\n",
      "\n",
      "ABB\n",
      "'Sector: Industrials'\n",
      "'Industry: Capital Goods'\n",
      "market cap is Rs 618.85\n",
      "\n",
      "\n",
      "ACC\n",
      "'Sector: Commodities'\n",
      "'Industry: Construction Materials'\n",
      "market cap is Rs 444.12\n",
      "\n",
      "\n",
      "AIAENG\n",
      "'Sector: Industrials'\n",
      "'Industry: Capital Goods'\n",
      "market cap is Rs 227.72\n",
      "\n",
      "\n",
      "APLAPOLLO\n",
      "'Sector: Industrials'\n",
      "'Industry: Capital Goods'\n",
      "market cap is Rs 329.72\n",
      "\n",
      "\n",
      "AUBANK\n",
      "'Sector: Financial Services'\n",
      "'Industry: Financial Services'\n",
      "market cap is Rs 419.57\n",
      "\n",
      "\n",
      "AARTIDRUGS\n",
      "'Sector: Healthcare'\n",
      "'Industry: Healthcare'\n",
      "market cap is Rs 40.85\n",
      "\n",
      "\n",
      "AAVAS\n",
      "'Sector: Financial Services'\n",
      "'Industry: Financial Services'\n",
      "market cap is Rs 143.74\n",
      "\n",
      "\n",
      "ABBOTINDIA\n",
      "'Sector: Healthcare'\n",
      "'Industry: Healthcare'\n",
      "market cap is Rs 300.34\n",
      "\n",
      "\n",
      "ADANIENT\n",
      "'Sector: Commodities'\n",
      "'Industry: Metals & Mining'\n",
      "market cap is Rs 4100.24\n",
      "\n",
      "\n"
     ]
    }
   ],
   "source": [
    "sector = []\n",
    "industry = []\n",
    "mCap = []\n",
    "for i in range(length):\n",
    "    meta = nse_eq(tickers[i])\n",
    "    print(tickers[i])\n",
    "    try:\n",
    "        sector.append(meta['industryInfo']['macro'])\n",
    "    except KeyError:\n",
    "        print('{} is not available'.format(tickers[i]))\n",
    "        sector.append(np.nan)\n",
    "        industry.append(np.nan)\n",
    "        mCap.append(np.nan)\n",
    "        continue\n",
    "    pprint('Sector: {}'.format(meta['industryInfo']['macro']))\n",
    "    try:\n",
    "        industry.append(meta['industryInfo']['sector'])\n",
    "    except KeyError:\n",
    "        print('{} is not available'.format(tickers[i]))\n",
    "        industry.append(np.nan)\n",
    "        mCap.append(np.nan)\n",
    "        continue\n",
    "    pprint('Industry: {}'.format(meta['industryInfo']['sector']))\n",
    "    try:\n",
    "        mCap.append(round((meta['priceInfo']['previousClose'] * meta['securityInfo']['issuedSize'])/1000000000, 2))\n",
    "    except KeyError:\n",
    "        print('{} is not available'.format(tickers[i]))\n",
    "        mCap.append(np.nan)\n",
    "    print('market cap is Rs {}'.format(round((meta['priceInfo']['previousClose'] * meta['securityInfo']['issuedSize'])/1000000000, 2)))\n",
    "    print('\\n')\n"
   ]
  },
  {
   "cell_type": "code",
   "execution_count": 17,
   "metadata": {},
   "outputs": [
    {
     "data": {
      "text/plain": [
       "(10, 4)"
      ]
     },
     "execution_count": 17,
     "metadata": {},
     "output_type": "execute_result"
    }
   ],
   "source": [
    "final_df.shape"
   ]
  },
  {
   "cell_type": "code",
   "execution_count": 18,
   "metadata": {},
   "outputs": [
    {
     "data": {
      "text/plain": [
       "['Diversified',\n",
       " 'Capital Goods',\n",
       " 'Construction Materials',\n",
       " 'Capital Goods',\n",
       " 'Capital Goods',\n",
       " 'Financial Services',\n",
       " 'Healthcare',\n",
       " 'Financial Services',\n",
       " 'Healthcare',\n",
       " 'Metals & Mining']"
      ]
     },
     "execution_count": 18,
     "metadata": {},
     "output_type": "execute_result"
    }
   ],
   "source": [
    "industry"
   ]
  },
  {
   "cell_type": "code",
   "execution_count": 19,
   "metadata": {},
   "outputs": [],
   "source": [
    "\n",
    "final_df['sector'] = sector\n",
    "final_df['industry'] = industry\n",
    "final_df['mCap (Billion)'] = mCap"
   ]
  },
  {
   "cell_type": "code",
   "execution_count": 20,
   "metadata": {},
   "outputs": [],
   "source": [
    "final_df = final_df.reset_index()"
   ]
  },
  {
   "cell_type": "code",
   "execution_count": 21,
   "metadata": {},
   "outputs": [
    {
     "data": {
      "text/html": [
       "<div>\n",
       "<style scoped>\n",
       "    .dataframe tbody tr th:only-of-type {\n",
       "        vertical-align: middle;\n",
       "    }\n",
       "\n",
       "    .dataframe tbody tr th {\n",
       "        vertical-align: top;\n",
       "    }\n",
       "\n",
       "    .dataframe thead th {\n",
       "        text-align: right;\n",
       "    }\n",
       "</style>\n",
       "<table border=\"1\" class=\"dataframe\">\n",
       "  <thead>\n",
       "    <tr style=\"text-align: right;\">\n",
       "      <th></th>\n",
       "      <th>Ticker</th>\n",
       "      <th>neg</th>\n",
       "      <th>neu</th>\n",
       "      <th>pos</th>\n",
       "      <th>compound</th>\n",
       "      <th>sector</th>\n",
       "      <th>industry</th>\n",
       "      <th>mCap (Billion)</th>\n",
       "    </tr>\n",
       "  </thead>\n",
       "  <tbody>\n",
       "    <tr>\n",
       "      <th>0</th>\n",
       "      <td>3MINDIA</td>\n",
       "      <td>0.008760</td>\n",
       "      <td>0.932560</td>\n",
       "      <td>0.058680</td>\n",
       "      <td>0.071982</td>\n",
       "      <td>Diversified</td>\n",
       "      <td>Diversified</td>\n",
       "      <td>254.92</td>\n",
       "    </tr>\n",
       "    <tr>\n",
       "      <th>1</th>\n",
       "      <td>AARTIDRUGS</td>\n",
       "      <td>0.023298</td>\n",
       "      <td>0.926255</td>\n",
       "      <td>0.050447</td>\n",
       "      <td>0.040130</td>\n",
       "      <td>Industrials</td>\n",
       "      <td>Capital Goods</td>\n",
       "      <td>618.85</td>\n",
       "    </tr>\n",
       "    <tr>\n",
       "      <th>2</th>\n",
       "      <td>AAVAS</td>\n",
       "      <td>0.000000</td>\n",
       "      <td>0.973400</td>\n",
       "      <td>0.026600</td>\n",
       "      <td>0.040926</td>\n",
       "      <td>Commodities</td>\n",
       "      <td>Construction Materials</td>\n",
       "      <td>444.12</td>\n",
       "    </tr>\n",
       "    <tr>\n",
       "      <th>3</th>\n",
       "      <td>ABB</td>\n",
       "      <td>0.018820</td>\n",
       "      <td>0.912140</td>\n",
       "      <td>0.069040</td>\n",
       "      <td>0.081176</td>\n",
       "      <td>Industrials</td>\n",
       "      <td>Capital Goods</td>\n",
       "      <td>227.72</td>\n",
       "    </tr>\n",
       "    <tr>\n",
       "      <th>4</th>\n",
       "      <td>ABBOTINDIA</td>\n",
       "      <td>0.008383</td>\n",
       "      <td>0.926872</td>\n",
       "      <td>0.064723</td>\n",
       "      <td>0.080911</td>\n",
       "      <td>Industrials</td>\n",
       "      <td>Capital Goods</td>\n",
       "      <td>329.72</td>\n",
       "    </tr>\n",
       "    <tr>\n",
       "      <th>5</th>\n",
       "      <td>ACC</td>\n",
       "      <td>0.015040</td>\n",
       "      <td>0.920320</td>\n",
       "      <td>0.064640</td>\n",
       "      <td>0.080172</td>\n",
       "      <td>Financial Services</td>\n",
       "      <td>Financial Services</td>\n",
       "      <td>419.57</td>\n",
       "    </tr>\n",
       "    <tr>\n",
       "      <th>6</th>\n",
       "      <td>ADANIENT</td>\n",
       "      <td>0.001920</td>\n",
       "      <td>0.958860</td>\n",
       "      <td>0.039220</td>\n",
       "      <td>0.058188</td>\n",
       "      <td>Healthcare</td>\n",
       "      <td>Healthcare</td>\n",
       "      <td>40.85</td>\n",
       "    </tr>\n",
       "    <tr>\n",
       "      <th>7</th>\n",
       "      <td>AIAENG</td>\n",
       "      <td>0.000000</td>\n",
       "      <td>0.973667</td>\n",
       "      <td>0.026333</td>\n",
       "      <td>0.043257</td>\n",
       "      <td>Financial Services</td>\n",
       "      <td>Financial Services</td>\n",
       "      <td>143.74</td>\n",
       "    </tr>\n",
       "    <tr>\n",
       "      <th>8</th>\n",
       "      <td>APLAPOLLO</td>\n",
       "      <td>0.000000</td>\n",
       "      <td>0.963780</td>\n",
       "      <td>0.036220</td>\n",
       "      <td>0.060572</td>\n",
       "      <td>Healthcare</td>\n",
       "      <td>Healthcare</td>\n",
       "      <td>300.34</td>\n",
       "    </tr>\n",
       "    <tr>\n",
       "      <th>9</th>\n",
       "      <td>AUBANK</td>\n",
       "      <td>0.002120</td>\n",
       "      <td>0.944120</td>\n",
       "      <td>0.053740</td>\n",
       "      <td>0.095700</td>\n",
       "      <td>Commodities</td>\n",
       "      <td>Metals &amp; Mining</td>\n",
       "      <td>4100.24</td>\n",
       "    </tr>\n",
       "  </tbody>\n",
       "</table>\n",
       "</div>"
      ],
      "text/plain": [
       "       Ticker       neg       neu       pos  compound              sector  \\\n",
       "0     3MINDIA  0.008760  0.932560  0.058680  0.071982         Diversified   \n",
       "1  AARTIDRUGS  0.023298  0.926255  0.050447  0.040130         Industrials   \n",
       "2       AAVAS  0.000000  0.973400  0.026600  0.040926         Commodities   \n",
       "3         ABB  0.018820  0.912140  0.069040  0.081176         Industrials   \n",
       "4  ABBOTINDIA  0.008383  0.926872  0.064723  0.080911         Industrials   \n",
       "5         ACC  0.015040  0.920320  0.064640  0.080172  Financial Services   \n",
       "6    ADANIENT  0.001920  0.958860  0.039220  0.058188          Healthcare   \n",
       "7      AIAENG  0.000000  0.973667  0.026333  0.043257  Financial Services   \n",
       "8   APLAPOLLO  0.000000  0.963780  0.036220  0.060572          Healthcare   \n",
       "9      AUBANK  0.002120  0.944120  0.053740  0.095700         Commodities   \n",
       "\n",
       "                 industry  mCap (Billion)  \n",
       "0             Diversified          254.92  \n",
       "1           Capital Goods          618.85  \n",
       "2  Construction Materials          444.12  \n",
       "3           Capital Goods          227.72  \n",
       "4           Capital Goods          329.72  \n",
       "5      Financial Services          419.57  \n",
       "6              Healthcare           40.85  \n",
       "7      Financial Services          143.74  \n",
       "8              Healthcare          300.34  \n",
       "9         Metals & Mining         4100.24  "
      ]
     },
     "execution_count": 21,
     "metadata": {},
     "output_type": "execute_result"
    }
   ],
   "source": [
    "final_df"
   ]
  },
  {
   "cell_type": "code",
   "execution_count": 22,
   "metadata": {},
   "outputs": [],
   "source": [
    "final_df = pd.merge(final_df, tickers_df, left_on='Ticker', right_on='Symbol').drop('Symbol', axis=1)"
   ]
  },
  {
   "cell_type": "code",
   "execution_count": 23,
   "metadata": {},
   "outputs": [],
   "source": [
    "final_df.columns = ['Symbol', 'Negative', 'Neutral', 'Positive', 'Sentiment Score', 'Sector', 'Industry', 'MCap (Billion)', 'Company Name']"
   ]
  },
  {
   "cell_type": "code",
   "execution_count": 24,
   "metadata": {},
   "outputs": [
    {
     "data": {
      "text/html": [
       "<div>\n",
       "<style scoped>\n",
       "    .dataframe tbody tr th:only-of-type {\n",
       "        vertical-align: middle;\n",
       "    }\n",
       "\n",
       "    .dataframe tbody tr th {\n",
       "        vertical-align: top;\n",
       "    }\n",
       "\n",
       "    .dataframe thead th {\n",
       "        text-align: right;\n",
       "    }\n",
       "</style>\n",
       "<table border=\"1\" class=\"dataframe\">\n",
       "  <thead>\n",
       "    <tr style=\"text-align: right;\">\n",
       "      <th></th>\n",
       "      <th>Symbol</th>\n",
       "      <th>Negative</th>\n",
       "      <th>Neutral</th>\n",
       "      <th>Positive</th>\n",
       "      <th>Sentiment Score</th>\n",
       "      <th>Sector</th>\n",
       "      <th>Industry</th>\n",
       "      <th>MCap (Billion)</th>\n",
       "      <th>Company Name</th>\n",
       "    </tr>\n",
       "  </thead>\n",
       "  <tbody>\n",
       "    <tr>\n",
       "      <th>0</th>\n",
       "      <td>3MINDIA</td>\n",
       "      <td>0.008760</td>\n",
       "      <td>0.932560</td>\n",
       "      <td>0.058680</td>\n",
       "      <td>0.071982</td>\n",
       "      <td>Diversified</td>\n",
       "      <td>Diversified</td>\n",
       "      <td>254.92</td>\n",
       "      <td>3M India Ltd.</td>\n",
       "    </tr>\n",
       "    <tr>\n",
       "      <th>1</th>\n",
       "      <td>AARTIDRUGS</td>\n",
       "      <td>0.023298</td>\n",
       "      <td>0.926255</td>\n",
       "      <td>0.050447</td>\n",
       "      <td>0.040130</td>\n",
       "      <td>Industrials</td>\n",
       "      <td>Capital Goods</td>\n",
       "      <td>618.85</td>\n",
       "      <td>Aarti Drugs Ltd.</td>\n",
       "    </tr>\n",
       "    <tr>\n",
       "      <th>2</th>\n",
       "      <td>AAVAS</td>\n",
       "      <td>0.000000</td>\n",
       "      <td>0.973400</td>\n",
       "      <td>0.026600</td>\n",
       "      <td>0.040926</td>\n",
       "      <td>Commodities</td>\n",
       "      <td>Construction Materials</td>\n",
       "      <td>444.12</td>\n",
       "      <td>Aavas Financiers Ltd.</td>\n",
       "    </tr>\n",
       "    <tr>\n",
       "      <th>3</th>\n",
       "      <td>ABB</td>\n",
       "      <td>0.018820</td>\n",
       "      <td>0.912140</td>\n",
       "      <td>0.069040</td>\n",
       "      <td>0.081176</td>\n",
       "      <td>Industrials</td>\n",
       "      <td>Capital Goods</td>\n",
       "      <td>227.72</td>\n",
       "      <td>ABB India Ltd.</td>\n",
       "    </tr>\n",
       "    <tr>\n",
       "      <th>4</th>\n",
       "      <td>ABBOTINDIA</td>\n",
       "      <td>0.008383</td>\n",
       "      <td>0.926872</td>\n",
       "      <td>0.064723</td>\n",
       "      <td>0.080911</td>\n",
       "      <td>Industrials</td>\n",
       "      <td>Capital Goods</td>\n",
       "      <td>329.72</td>\n",
       "      <td>Abbott India Ltd.</td>\n",
       "    </tr>\n",
       "    <tr>\n",
       "      <th>5</th>\n",
       "      <td>ACC</td>\n",
       "      <td>0.015040</td>\n",
       "      <td>0.920320</td>\n",
       "      <td>0.064640</td>\n",
       "      <td>0.080172</td>\n",
       "      <td>Financial Services</td>\n",
       "      <td>Financial Services</td>\n",
       "      <td>419.57</td>\n",
       "      <td>ACC Ltd.</td>\n",
       "    </tr>\n",
       "    <tr>\n",
       "      <th>6</th>\n",
       "      <td>ADANIENT</td>\n",
       "      <td>0.001920</td>\n",
       "      <td>0.958860</td>\n",
       "      <td>0.039220</td>\n",
       "      <td>0.058188</td>\n",
       "      <td>Healthcare</td>\n",
       "      <td>Healthcare</td>\n",
       "      <td>40.85</td>\n",
       "      <td>Adani Enterprises Ltd.</td>\n",
       "    </tr>\n",
       "    <tr>\n",
       "      <th>7</th>\n",
       "      <td>AIAENG</td>\n",
       "      <td>0.000000</td>\n",
       "      <td>0.973667</td>\n",
       "      <td>0.026333</td>\n",
       "      <td>0.043257</td>\n",
       "      <td>Financial Services</td>\n",
       "      <td>Financial Services</td>\n",
       "      <td>143.74</td>\n",
       "      <td>AIA Engineering Ltd.</td>\n",
       "    </tr>\n",
       "    <tr>\n",
       "      <th>8</th>\n",
       "      <td>APLAPOLLO</td>\n",
       "      <td>0.000000</td>\n",
       "      <td>0.963780</td>\n",
       "      <td>0.036220</td>\n",
       "      <td>0.060572</td>\n",
       "      <td>Healthcare</td>\n",
       "      <td>Healthcare</td>\n",
       "      <td>300.34</td>\n",
       "      <td>APL Apollo Tubes Ltd.</td>\n",
       "    </tr>\n",
       "    <tr>\n",
       "      <th>9</th>\n",
       "      <td>AUBANK</td>\n",
       "      <td>0.002120</td>\n",
       "      <td>0.944120</td>\n",
       "      <td>0.053740</td>\n",
       "      <td>0.095700</td>\n",
       "      <td>Commodities</td>\n",
       "      <td>Metals &amp; Mining</td>\n",
       "      <td>4100.24</td>\n",
       "      <td>AU Small Finance Bank Ltd.</td>\n",
       "    </tr>\n",
       "  </tbody>\n",
       "</table>\n",
       "</div>"
      ],
      "text/plain": [
       "       Symbol  Negative   Neutral  Positive  Sentiment Score  \\\n",
       "0     3MINDIA  0.008760  0.932560  0.058680         0.071982   \n",
       "1  AARTIDRUGS  0.023298  0.926255  0.050447         0.040130   \n",
       "2       AAVAS  0.000000  0.973400  0.026600         0.040926   \n",
       "3         ABB  0.018820  0.912140  0.069040         0.081176   \n",
       "4  ABBOTINDIA  0.008383  0.926872  0.064723         0.080911   \n",
       "5         ACC  0.015040  0.920320  0.064640         0.080172   \n",
       "6    ADANIENT  0.001920  0.958860  0.039220         0.058188   \n",
       "7      AIAENG  0.000000  0.973667  0.026333         0.043257   \n",
       "8   APLAPOLLO  0.000000  0.963780  0.036220         0.060572   \n",
       "9      AUBANK  0.002120  0.944120  0.053740         0.095700   \n",
       "\n",
       "               Sector                Industry  MCap (Billion)  \\\n",
       "0         Diversified             Diversified          254.92   \n",
       "1         Industrials           Capital Goods          618.85   \n",
       "2         Commodities  Construction Materials          444.12   \n",
       "3         Industrials           Capital Goods          227.72   \n",
       "4         Industrials           Capital Goods          329.72   \n",
       "5  Financial Services      Financial Services          419.57   \n",
       "6          Healthcare              Healthcare           40.85   \n",
       "7  Financial Services      Financial Services          143.74   \n",
       "8          Healthcare              Healthcare          300.34   \n",
       "9         Commodities         Metals & Mining         4100.24   \n",
       "\n",
       "                 Company Name  \n",
       "0               3M India Ltd.  \n",
       "1            Aarti Drugs Ltd.  \n",
       "2       Aavas Financiers Ltd.  \n",
       "3              ABB India Ltd.  \n",
       "4           Abbott India Ltd.  \n",
       "5                    ACC Ltd.  \n",
       "6      Adani Enterprises Ltd.  \n",
       "7        AIA Engineering Ltd.  \n",
       "8       APL Apollo Tubes Ltd.  \n",
       "9  AU Small Finance Bank Ltd.  "
      ]
     },
     "execution_count": 24,
     "metadata": {},
     "output_type": "execute_result"
    }
   ],
   "source": [
    "final_df"
   ]
  },
  {
   "cell_type": "markdown",
   "metadata": {},
   "source": []
  },
  {
   "cell_type": "code",
   "execution_count": 25,
   "metadata": {},
   "outputs": [],
   "source": [
    "final_df.iloc[5,6] = np.nan"
   ]
  },
  {
   "cell_type": "code",
   "execution_count": 26,
   "metadata": {},
   "outputs": [],
   "source": [
    "final_df = final_df.dropna()"
   ]
  },
  {
   "cell_type": "code",
   "execution_count": 27,
   "metadata": {},
   "outputs": [
    {
     "data": {
      "text/html": [
       "<div>\n",
       "<style scoped>\n",
       "    .dataframe tbody tr th:only-of-type {\n",
       "        vertical-align: middle;\n",
       "    }\n",
       "\n",
       "    .dataframe tbody tr th {\n",
       "        vertical-align: top;\n",
       "    }\n",
       "\n",
       "    .dataframe thead th {\n",
       "        text-align: right;\n",
       "    }\n",
       "</style>\n",
       "<table border=\"1\" class=\"dataframe\">\n",
       "  <thead>\n",
       "    <tr style=\"text-align: right;\">\n",
       "      <th></th>\n",
       "      <th>Symbol</th>\n",
       "      <th>Negative</th>\n",
       "      <th>Neutral</th>\n",
       "      <th>Positive</th>\n",
       "      <th>Sentiment Score</th>\n",
       "      <th>Sector</th>\n",
       "      <th>Industry</th>\n",
       "      <th>MCap (Billion)</th>\n",
       "      <th>Company Name</th>\n",
       "    </tr>\n",
       "  </thead>\n",
       "  <tbody>\n",
       "    <tr>\n",
       "      <th>0</th>\n",
       "      <td>3MINDIA</td>\n",
       "      <td>0.008760</td>\n",
       "      <td>0.932560</td>\n",
       "      <td>0.058680</td>\n",
       "      <td>0.071982</td>\n",
       "      <td>Diversified</td>\n",
       "      <td>Diversified</td>\n",
       "      <td>254.92</td>\n",
       "      <td>3M India Ltd.</td>\n",
       "    </tr>\n",
       "    <tr>\n",
       "      <th>1</th>\n",
       "      <td>AARTIDRUGS</td>\n",
       "      <td>0.023298</td>\n",
       "      <td>0.926255</td>\n",
       "      <td>0.050447</td>\n",
       "      <td>0.040130</td>\n",
       "      <td>Industrials</td>\n",
       "      <td>Capital Goods</td>\n",
       "      <td>618.85</td>\n",
       "      <td>Aarti Drugs Ltd.</td>\n",
       "    </tr>\n",
       "    <tr>\n",
       "      <th>2</th>\n",
       "      <td>AAVAS</td>\n",
       "      <td>0.000000</td>\n",
       "      <td>0.973400</td>\n",
       "      <td>0.026600</td>\n",
       "      <td>0.040926</td>\n",
       "      <td>Commodities</td>\n",
       "      <td>Construction Materials</td>\n",
       "      <td>444.12</td>\n",
       "      <td>Aavas Financiers Ltd.</td>\n",
       "    </tr>\n",
       "    <tr>\n",
       "      <th>3</th>\n",
       "      <td>ABB</td>\n",
       "      <td>0.018820</td>\n",
       "      <td>0.912140</td>\n",
       "      <td>0.069040</td>\n",
       "      <td>0.081176</td>\n",
       "      <td>Industrials</td>\n",
       "      <td>Capital Goods</td>\n",
       "      <td>227.72</td>\n",
       "      <td>ABB India Ltd.</td>\n",
       "    </tr>\n",
       "    <tr>\n",
       "      <th>4</th>\n",
       "      <td>ABBOTINDIA</td>\n",
       "      <td>0.008383</td>\n",
       "      <td>0.926872</td>\n",
       "      <td>0.064723</td>\n",
       "      <td>0.080911</td>\n",
       "      <td>Industrials</td>\n",
       "      <td>Capital Goods</td>\n",
       "      <td>329.72</td>\n",
       "      <td>Abbott India Ltd.</td>\n",
       "    </tr>\n",
       "    <tr>\n",
       "      <th>6</th>\n",
       "      <td>ADANIENT</td>\n",
       "      <td>0.001920</td>\n",
       "      <td>0.958860</td>\n",
       "      <td>0.039220</td>\n",
       "      <td>0.058188</td>\n",
       "      <td>Healthcare</td>\n",
       "      <td>Healthcare</td>\n",
       "      <td>40.85</td>\n",
       "      <td>Adani Enterprises Ltd.</td>\n",
       "    </tr>\n",
       "    <tr>\n",
       "      <th>7</th>\n",
       "      <td>AIAENG</td>\n",
       "      <td>0.000000</td>\n",
       "      <td>0.973667</td>\n",
       "      <td>0.026333</td>\n",
       "      <td>0.043257</td>\n",
       "      <td>Financial Services</td>\n",
       "      <td>Financial Services</td>\n",
       "      <td>143.74</td>\n",
       "      <td>AIA Engineering Ltd.</td>\n",
       "    </tr>\n",
       "    <tr>\n",
       "      <th>8</th>\n",
       "      <td>APLAPOLLO</td>\n",
       "      <td>0.000000</td>\n",
       "      <td>0.963780</td>\n",
       "      <td>0.036220</td>\n",
       "      <td>0.060572</td>\n",
       "      <td>Healthcare</td>\n",
       "      <td>Healthcare</td>\n",
       "      <td>300.34</td>\n",
       "      <td>APL Apollo Tubes Ltd.</td>\n",
       "    </tr>\n",
       "    <tr>\n",
       "      <th>9</th>\n",
       "      <td>AUBANK</td>\n",
       "      <td>0.002120</td>\n",
       "      <td>0.944120</td>\n",
       "      <td>0.053740</td>\n",
       "      <td>0.095700</td>\n",
       "      <td>Commodities</td>\n",
       "      <td>Metals &amp; Mining</td>\n",
       "      <td>4100.24</td>\n",
       "      <td>AU Small Finance Bank Ltd.</td>\n",
       "    </tr>\n",
       "  </tbody>\n",
       "</table>\n",
       "</div>"
      ],
      "text/plain": [
       "       Symbol  Negative   Neutral  Positive  Sentiment Score  \\\n",
       "0     3MINDIA  0.008760  0.932560  0.058680         0.071982   \n",
       "1  AARTIDRUGS  0.023298  0.926255  0.050447         0.040130   \n",
       "2       AAVAS  0.000000  0.973400  0.026600         0.040926   \n",
       "3         ABB  0.018820  0.912140  0.069040         0.081176   \n",
       "4  ABBOTINDIA  0.008383  0.926872  0.064723         0.080911   \n",
       "6    ADANIENT  0.001920  0.958860  0.039220         0.058188   \n",
       "7      AIAENG  0.000000  0.973667  0.026333         0.043257   \n",
       "8   APLAPOLLO  0.000000  0.963780  0.036220         0.060572   \n",
       "9      AUBANK  0.002120  0.944120  0.053740         0.095700   \n",
       "\n",
       "               Sector                Industry  MCap (Billion)  \\\n",
       "0         Diversified             Diversified          254.92   \n",
       "1         Industrials           Capital Goods          618.85   \n",
       "2         Commodities  Construction Materials          444.12   \n",
       "3         Industrials           Capital Goods          227.72   \n",
       "4         Industrials           Capital Goods          329.72   \n",
       "6          Healthcare              Healthcare           40.85   \n",
       "7  Financial Services      Financial Services          143.74   \n",
       "8          Healthcare              Healthcare          300.34   \n",
       "9         Commodities         Metals & Mining         4100.24   \n",
       "\n",
       "                 Company Name  \n",
       "0               3M India Ltd.  \n",
       "1            Aarti Drugs Ltd.  \n",
       "2       Aavas Financiers Ltd.  \n",
       "3              ABB India Ltd.  \n",
       "4           Abbott India Ltd.  \n",
       "6      Adani Enterprises Ltd.  \n",
       "7        AIA Engineering Ltd.  \n",
       "8       APL Apollo Tubes Ltd.  \n",
       "9  AU Small Finance Bank Ltd.  "
      ]
     },
     "execution_count": 27,
     "metadata": {},
     "output_type": "execute_result"
    }
   ],
   "source": [
    "final_df"
   ]
  },
  {
   "attachments": {},
   "cell_type": "markdown",
   "metadata": {},
   "source": [
    "Plotting"
   ]
  },
  {
   "cell_type": "code",
   "execution_count": 28,
   "metadata": {},
   "outputs": [],
   "source": [
    "import pandas as pd\n",
    "import matplotlib.pyplot as plt\n",
    "%matplotlib inline\n",
    "import plotly\n",
    "import plotly.express as px"
   ]
  },
  {
   "cell_type": "code",
   "execution_count": 29,
   "metadata": {},
   "outputs": [
    {
     "data": {
      "application/vnd.plotly.v1+json": {
       "config": {
        "plotlyServerURL": "https://plot.ly"
       },
       "data": [
        {
         "branchvalues": "total",
         "customdata": [
          [
           "3M India Ltd.",
           0.00876,
           0.9325600000000001,
           0.05868,
           0.071982
          ],
          [
           "Aarti Drugs Ltd.",
           0.023297872340425532,
           0.9262553191489361,
           0.0504468085106383,
           0.04012978723404255
          ],
          [
           "Aavas Financiers Ltd.",
           0,
           0.9734,
           0.026600000000000002,
           0.040926
          ],
          [
           "ABB India Ltd.",
           0.01882,
           0.91214,
           0.06904,
           0.081176
          ],
          [
           "Abbott India Ltd.",
           0.008382978723404256,
           0.926872340425532,
           0.06472340425531914,
           0.08091063829787234
          ],
          [
           "Adani Enterprises Ltd.",
           0.00192,
           0.9588599999999999,
           0.039220000000000005,
           0.058188
          ],
          [
           "AIA Engineering Ltd.",
           0,
           0.9736666666666667,
           0.026333333333333334,
           0.04325666666666666
          ],
          [
           "APL Apollo Tubes Ltd.",
           0,
           0.96378,
           0.03622,
           0.060572
          ],
          [
           "AU Small Finance Bank Ltd.",
           0.00212,
           0.9441200000000001,
           0.05374,
           0.09570000000000001
          ]
         ],
         "domain": {
          "x": [
           0,
           1
          ],
          "y": [
           0,
           1
          ]
         },
         "hovertemplate": "labels=%{label}<br>MCap (Billion)=%{value}<br>parent=%{parent}<br>id=%{id}<br>Company Name=%{customdata[0]}<br>Negative=%{customdata[1]}<br>Neutral=%{customdata[2]}<br>Positive=%{customdata[3]}<br>Sentiment Score=%{color}<extra></extra>",
         "ids": [
          "Nifty 500/Diversified/Diversified/3MINDIA",
          "Nifty 500/Industrials/Capital Goods/AARTIDRUGS",
          "Nifty 500/Commodities/Construction Materials/AAVAS",
          "Nifty 500/Industrials/Capital Goods/ABB",
          "Nifty 500/Industrials/Capital Goods/ABBOTINDIA",
          "Nifty 500/Healthcare/Healthcare/ADANIENT",
          "Nifty 500/Financial Services/Financial Services/AIAENG",
          "Nifty 500/Healthcare/Healthcare/APLAPOLLO",
          "Nifty 500/Commodities/Metals & Mining/AUBANK",
          "Nifty 500/Industrials/Capital Goods",
          "Nifty 500/Commodities/Construction Materials",
          "Nifty 500/Diversified/Diversified",
          "Nifty 500/Financial Services/Financial Services",
          "Nifty 500/Healthcare/Healthcare",
          "Nifty 500/Commodities/Metals & Mining",
          "Nifty 500/Commodities",
          "Nifty 500/Diversified",
          "Nifty 500/Financial Services",
          "Nifty 500/Healthcare",
          "Nifty 500/Industrials",
          "Nifty 500"
         ],
         "labels": [
          "3MINDIA",
          "AARTIDRUGS",
          "AAVAS",
          "ABB",
          "ABBOTINDIA",
          "ADANIENT",
          "AIAENG",
          "APLAPOLLO",
          "AUBANK",
          "Capital Goods",
          "Construction Materials",
          "Diversified",
          "Financial Services",
          "Healthcare",
          "Metals & Mining",
          "Commodities",
          "Diversified",
          "Financial Services",
          "Healthcare",
          "Industrials",
          "Nifty 500"
         ],
         "marker": {
          "coloraxis": "coloraxis",
          "colors": [
           0.071982,
           0.04012978723404255,
           0.04092599999999999,
           0.081176,
           0.08091063829787234,
           0.058188,
           0.04325666666666666,
           0.060572,
           0.09570000000000001,
           0.05950707156344244,
           0.04092599999999999,
           0.071982,
           0.04325666666666666,
           0.0602865684222867,
           0.09570000000000001,
           0.09034694062970364,
           0.071982,
           0.04325666666666666,
           0.0602865684222867,
           0.05950707156344244,
           0.08137189618698681
          ]
         },
         "name": "",
         "parents": [
          "Nifty 500/Diversified/Diversified",
          "Nifty 500/Industrials/Capital Goods",
          "Nifty 500/Commodities/Construction Materials",
          "Nifty 500/Industrials/Capital Goods",
          "Nifty 500/Industrials/Capital Goods",
          "Nifty 500/Healthcare/Healthcare",
          "Nifty 500/Financial Services/Financial Services",
          "Nifty 500/Healthcare/Healthcare",
          "Nifty 500/Commodities/Metals & Mining",
          "Nifty 500/Industrials",
          "Nifty 500/Commodities",
          "Nifty 500/Diversified",
          "Nifty 500/Financial Services",
          "Nifty 500/Healthcare",
          "Nifty 500/Commodities",
          "Nifty 500",
          "Nifty 500",
          "Nifty 500",
          "Nifty 500",
          "Nifty 500",
          ""
         ],
         "textposition": "middle center",
         "texttemplate": "%{label}<br>%{customdata[4]}",
         "type": "treemap",
         "values": [
          254.92,
          618.85,
          444.12,
          227.72,
          329.72,
          40.85,
          143.74,
          300.34,
          4100.24,
          1176.29,
          444.12,
          254.92,
          143.74,
          341.19,
          4100.24,
          4544.36,
          254.92,
          143.74,
          341.19,
          1176.29,
          6460.5
         ]
        }
       ],
       "layout": {
        "coloraxis": {
         "cmid": 0,
         "colorbar": {
          "title": {
           "text": "Sentiment Score"
          }
         },
         "colorscale": [
          [
           0,
           "#FF0000"
          ],
          [
           0.5,
           "#000000"
          ],
          [
           1,
           "#00FF00"
          ]
         ]
        },
        "font": {
         "size": 20
        },
        "legend": {
         "tracegroupgap": 0
        },
        "margin": {
         "b": 10,
         "l": 10,
         "r": 10,
         "t": 30
        },
        "template": {
         "data": {
          "candlestick": [
           {
            "decreasing": {
             "line": {
              "color": "#000033"
             }
            },
            "increasing": {
             "line": {
              "color": "#000032"
             }
            },
            "type": "candlestick"
           }
          ],
          "contour": [
           {
            "colorscale": [
             [
              0,
              "#000011"
             ],
             [
              0.1111111111111111,
              "#000012"
             ],
             [
              0.2222222222222222,
              "#000013"
             ],
             [
              0.3333333333333333,
              "#000014"
             ],
             [
              0.4444444444444444,
              "#000015"
             ],
             [
              0.5555555555555556,
              "#000016"
             ],
             [
              0.6666666666666666,
              "#000017"
             ],
             [
              0.7777777777777778,
              "#000018"
             ],
             [
              0.8888888888888888,
              "#000019"
             ],
             [
              1,
              "#000020"
             ]
            ],
            "type": "contour"
           }
          ],
          "contourcarpet": [
           {
            "colorscale": [
             [
              0,
              "#000011"
             ],
             [
              0.1111111111111111,
              "#000012"
             ],
             [
              0.2222222222222222,
              "#000013"
             ],
             [
              0.3333333333333333,
              "#000014"
             ],
             [
              0.4444444444444444,
              "#000015"
             ],
             [
              0.5555555555555556,
              "#000016"
             ],
             [
              0.6666666666666666,
              "#000017"
             ],
             [
              0.7777777777777778,
              "#000018"
             ],
             [
              0.8888888888888888,
              "#000019"
             ],
             [
              1,
              "#000020"
             ]
            ],
            "type": "contourcarpet"
           }
          ],
          "heatmap": [
           {
            "colorscale": [
             [
              0,
              "#000011"
             ],
             [
              0.1111111111111111,
              "#000012"
             ],
             [
              0.2222222222222222,
              "#000013"
             ],
             [
              0.3333333333333333,
              "#000014"
             ],
             [
              0.4444444444444444,
              "#000015"
             ],
             [
              0.5555555555555556,
              "#000016"
             ],
             [
              0.6666666666666666,
              "#000017"
             ],
             [
              0.7777777777777778,
              "#000018"
             ],
             [
              0.8888888888888888,
              "#000019"
             ],
             [
              1,
              "#000020"
             ]
            ],
            "type": "heatmap"
           }
          ],
          "histogram2d": [
           {
            "colorscale": [
             [
              0,
              "#000011"
             ],
             [
              0.1111111111111111,
              "#000012"
             ],
             [
              0.2222222222222222,
              "#000013"
             ],
             [
              0.3333333333333333,
              "#000014"
             ],
             [
              0.4444444444444444,
              "#000015"
             ],
             [
              0.5555555555555556,
              "#000016"
             ],
             [
              0.6666666666666666,
              "#000017"
             ],
             [
              0.7777777777777778,
              "#000018"
             ],
             [
              0.8888888888888888,
              "#000019"
             ],
             [
              1,
              "#000020"
             ]
            ],
            "type": "histogram2d"
           }
          ],
          "icicle": [
           {
            "textfont": {
             "color": "white"
            },
            "type": "icicle"
           }
          ],
          "sankey": [
           {
            "textfont": {
             "color": "#000036"
            },
            "type": "sankey"
           }
          ],
          "scatter": [
           {
            "marker": {
             "line": {
              "width": 0
             }
            },
            "type": "scatter"
           }
          ],
          "table": [
           {
            "cells": {
             "fill": {
              "color": "#000038"
             },
             "font": {
              "color": "#000037"
             },
             "line": {
              "color": "#000039"
             }
            },
            "header": {
             "fill": {
              "color": "#000040"
             },
             "font": {
              "color": "#000036"
             },
             "line": {
              "color": "#000039"
             }
            },
            "type": "table"
           }
          ],
          "waterfall": [
           {
            "connector": {
             "line": {
              "color": "#000036",
              "width": 2
             }
            },
            "decreasing": {
             "marker": {
              "color": "#000033"
             }
            },
            "increasing": {
             "marker": {
              "color": "#000032"
             }
            },
            "totals": {
             "marker": {
              "color": "#000034"
             }
            },
            "type": "waterfall"
           }
          ]
         },
         "layout": {
          "coloraxis": {
           "colorscale": [
            [
             0,
             "#000011"
            ],
            [
             0.1111111111111111,
             "#000012"
            ],
            [
             0.2222222222222222,
             "#000013"
            ],
            [
             0.3333333333333333,
             "#000014"
            ],
            [
             0.4444444444444444,
             "#000015"
            ],
            [
             0.5555555555555556,
             "#000016"
            ],
            [
             0.6666666666666666,
             "#000017"
            ],
            [
             0.7777777777777778,
             "#000018"
            ],
            [
             0.8888888888888888,
             "#000019"
            ],
            [
             1,
             "#000020"
            ]
           ]
          },
          "colorscale": {
           "diverging": [
            [
             0,
             "#000021"
            ],
            [
             0.1,
             "#000022"
            ],
            [
             0.2,
             "#000023"
            ],
            [
             0.3,
             "#000024"
            ],
            [
             0.4,
             "#000025"
            ],
            [
             0.5,
             "#000026"
            ],
            [
             0.6,
             "#000027"
            ],
            [
             0.7,
             "#000028"
            ],
            [
             0.8,
             "#000029"
            ],
            [
             0.9,
             "#000030"
            ],
            [
             1,
             "#000031"
            ]
           ],
           "sequential": [
            [
             0,
             "#000011"
            ],
            [
             0.1111111111111111,
             "#000012"
            ],
            [
             0.2222222222222222,
             "#000013"
            ],
            [
             0.3333333333333333,
             "#000014"
            ],
            [
             0.4444444444444444,
             "#000015"
            ],
            [
             0.5555555555555556,
             "#000016"
            ],
            [
             0.6666666666666666,
             "#000017"
            ],
            [
             0.7777777777777778,
             "#000018"
            ],
            [
             0.8888888888888888,
             "#000019"
            ],
            [
             1,
             "#000020"
            ]
           ],
           "sequentialminus": [
            [
             0,
             "#000011"
            ],
            [
             0.1111111111111111,
             "#000012"
            ],
            [
             0.2222222222222222,
             "#000013"
            ],
            [
             0.3333333333333333,
             "#000014"
            ],
            [
             0.4444444444444444,
             "#000015"
            ],
            [
             0.5555555555555556,
             "#000016"
            ],
            [
             0.6666666666666666,
             "#000017"
            ],
            [
             0.7777777777777778,
             "#000018"
            ],
            [
             0.8888888888888888,
             "#000019"
            ],
            [
             1,
             "#000020"
            ]
           ]
          },
          "colorway": [
           "#000001",
           "#000002",
           "#000003",
           "#000004",
           "#000005",
           "#000006",
           "#000007",
           "#000008",
           "#000009",
           "#000010"
          ]
         }
        }
       }
      }
     },
     "metadata": {},
     "output_type": "display_data"
    }
   ],
   "source": [
    "fig = px.treemap(\n",
    "    final_df, path=[px.Constant('Nifty 500'), 'Sector', 'Industry', 'Symbol'], values='MCap (Billion)', color='Sentiment Score',\n",
    "    hover_data=['Company Name', 'Negative', 'Neutral', 'Positive', 'Sentiment Score'], color_continuous_scale=['#FF0000', \"#000000\", '#00FF00'], color_continuous_midpoint=0\n",
    "    )\n",
    "fig.data[0].customdata = final_df[['Company Name', 'Negative', 'Neutral', 'Positive', 'Sentiment Score']]\n",
    "fig.data[0].texttemplate = \"%{label}<br>%{customdata[4]}\"\n",
    "fig.update_traces(textposition=\"middle center\")\n",
    "fig.update_layout(margin = dict(t=30, l=10, r=10, b=10), font_size=20)\n",
    "fig.show()"
   ]
  },
  {
   "cell_type": "code",
   "execution_count": null,
   "metadata": {},
   "outputs": [],
   "source": [
    "'''\n",
    "req = Request(url= '{}/{}'.format(news_url, tickers[0]),headers={'User-Agent': 'Mozilla/5.0 (Windows NT 6.1; WOW64; rv:20.0) Gecko/20100101 Firefox/20.0'})\n",
    "response = urlopen(req)\n",
    "html = BeautifulSoup(response)\n",
    "data = [] \n",
    "news_links = html.select('.newslink')\n",
    "for link in news_links:\n",
    "    title = link.find('span', class_='h6').text\n",
    "    date = link.find('small').text\n",
    "    data.append([title, date])\n",
    "\n",
    "df = pd.DataFrame(data, columns=['Title', 'Date'])\n",
    "\n",
    "print(df)\n",
    "'''"
   ]
  },
  {
   "attachments": {},
   "cell_type": "markdown",
   "metadata": {},
   "source": [
    "References"
   ]
  },
  {
   "attachments": {},
   "cell_type": "markdown",
   "metadata": {},
   "source": [
    "https://blog.devgenius.io/best-way-to-speed-up-a-bulk-of-http-requests-in-python-4ec75badabed"
   ]
  }
 ],
 "metadata": {
  "kernelspec": {
   "display_name": "Python 3",
   "language": "python",
   "name": "python3"
  },
  "language_info": {
   "codemirror_mode": {
    "name": "ipython",
    "version": 3
   },
   "file_extension": ".py",
   "mimetype": "text/x-python",
   "name": "python",
   "nbconvert_exporter": "python",
   "pygments_lexer": "ipython3",
   "version": "3.11.1"
  },
  "orig_nbformat": 4,
  "vscode": {
   "interpreter": {
    "hash": "236178af6f648e00519e077836b3ac634bd3def9b921796a679cc929c64b686e"
   }
  }
 },
 "nbformat": 4,
 "nbformat_minor": 2
}
